{
 "cells": [
  {
   "cell_type": "code",
   "execution_count": null,
   "id": "93c36847",
   "metadata": {},
   "outputs": [],
   "source": [
    "'''\n",
    "Q1. How do you comment code in Python? What are the different types of comments?\n",
    "\n",
    "'''\n",
    "\n",
    "'''\n",
    "Answer:-\n",
    "\n",
    "There are mainly 2 ways to comment code in python:-\n",
    "\n",
    "1. Single line comment - This is used to comment out a single line of code. We use # symbol to make these type of comments.\n",
    "   Example - #This is a single line comment.\n",
    "   \n",
    "2. Multi line comment - This is used to comment out multiple lines of code. We use \"\"\" \"\"\" or ''' '''symbol for these type of comments.\n",
    "   Example - \"\"\"THIS IS LINE 1.\n",
    "                THIS IS LINE 2.\n",
    "                THIS IS LINE 3.\"\"\"\n",
    "'''\n"
   ]
  },
  {
   "cell_type": "code",
   "execution_count": null,
   "id": "9b14b594",
   "metadata": {},
   "outputs": [],
   "source": [
    "'''\n",
    "Q2. What are variables in Python? How do you declare and assign values to variables?\n",
    "'''\n",
    "\n",
    "''' Answer:-\n",
    "Variables are reserved memory locations, which can store any values. We can change the values assigned to the variables.\n",
    "'''\n",
    "\n",
    "#Declaring and assigning values to variables\n",
    "\n",
    "a=5 \n",
    "b=18.5"
   ]
  },
  {
   "cell_type": "code",
   "execution_count": 3,
   "id": "f712ffe1",
   "metadata": {},
   "outputs": [
    {
     "name": "stdout",
     "output_type": "stream",
     "text": [
      "5\n",
      "5.0\n",
      "9.0\n"
     ]
    }
   ],
   "source": [
    "'''\n",
    "Q3. How do you convert one data type to another in Python?\n",
    "'''\n",
    "\n",
    "''' Answer:-\n",
    "Let us discuss this with an example.\n",
    "'''\n",
    "\n",
    "#example\n",
    "\n",
    "a=5\n",
    "print(a)      #prints a (5)\n",
    "\n",
    "a=float(a)    #chnaged a to float a\n",
    "print(a)      #prints a (now which is 5.0)\n",
    "\n",
    "# let us check out another way\n",
    "\n",
    "b=9\n",
    "print (float(b))  #converts b to float and prints it (9.0 is the output in this case.)"
   ]
  },
  {
   "cell_type": "code",
   "execution_count": null,
   "id": "6a806a2b",
   "metadata": {},
   "outputs": [],
   "source": [
    "'''Q4. How do you write and execute a Python script from the command line?'''\n",
    "\n",
    "'''Answer:-\n",
    "Python script can be excecuted by writing :- \n",
    "\n",
    "python filename.py\n",
    "\n",
    "#here filename is the name of the file\n",
    "'''"
   ]
  },
  {
   "cell_type": "code",
   "execution_count": 3,
   "id": "de493705",
   "metadata": {},
   "outputs": [
    {
     "name": "stdout",
     "output_type": "stream",
     "text": [
      "[2, 3]\n"
     ]
    }
   ],
   "source": [
    "'''\n",
    "Q5. Given a list my_list = [1, 2, 3, 4, 5], write the code to slice the list and obtain the sub-list [2, 3].\n",
    "'''\n",
    "\n",
    "#Answer:-\n",
    "\n",
    "my_list = [1, 2, 3, 4, 5]\n",
    "b=my_list[1:3]\n",
    "print(b)"
   ]
  },
  {
   "cell_type": "code",
   "execution_count": 5,
   "id": "a4617f04",
   "metadata": {},
   "outputs": [
    {
     "name": "stdout",
     "output_type": "stream",
     "text": [
      "(3+9j)\n",
      "(4+5j)\n"
     ]
    }
   ],
   "source": [
    "'''\n",
    "Q6. What is a complex number in mathematics, and how is it represented in Python?\n",
    "'''\n",
    "\n",
    "'''\n",
    "Answer:-\n",
    "\n",
    "Complex numbers are the combination of real numbers and imaginary numbers. Example: 3+9i where 3 is real part and 9i is imaginary part\n",
    "In python these are represented as a+bj (where a and b are real numbers and j is the imaginary part)\n",
    "'''\n",
    "#complex numbers in python\n",
    "a=3\n",
    "b=9\n",
    "c=complex(a,b)   #syntex of defining a complex number in python \n",
    "print (c)\n",
    "\n",
    "#Let us directly defince a complex number\n",
    "d=complex(4,5)\n",
    "print(d)"
   ]
  },
  {
   "cell_type": "code",
   "execution_count": null,
   "id": "e9a49cf3",
   "metadata": {},
   "outputs": [],
   "source": [
    "'''\n",
    "Q7. What is the correct way to declare a variable named age and assign the value 25 to it?\n",
    "'''\n",
    "\n",
    "#Answer\n",
    "\n",
    "#declaring a variable and assigning the said value\n",
    "\n",
    "age=25"
   ]
  },
  {
   "cell_type": "code",
   "execution_count": 6,
   "id": "c96a6c67",
   "metadata": {},
   "outputs": [
    {
     "name": "stdout",
     "output_type": "stream",
     "text": [
      "<class 'float'>\n"
     ]
    }
   ],
   "source": [
    "'''Q8. Declare a variable named price and assign the value 9.99 to it. What data type does this variable\n",
    "belong to?'''\n",
    "\n",
    "#Answer\n",
    "\n",
    "price=9.99\n",
    "\n",
    "#data type of price is float\n",
    "#let us check\n",
    "\n",
    "print(type(price))"
   ]
  },
  {
   "cell_type": "code",
   "execution_count": 7,
   "id": "a3c1641f",
   "metadata": {},
   "outputs": [
    {
     "name": "stdout",
     "output_type": "stream",
     "text": [
      "Rishab Kumar\n"
     ]
    }
   ],
   "source": [
    "'''\n",
    "Q9. Create a variable named name and assign your full name to it as a string. How would you print the\n",
    "value of this variable?\n",
    "'''\n",
    "\n",
    "#Answer\n",
    "#creating name variable\n",
    "\n",
    "name=\"Rishab Kumar\"\n",
    "\n",
    "#printing name\n",
    "print(name)"
   ]
  },
  {
   "cell_type": "code",
   "execution_count": 20,
   "id": "36073d2c",
   "metadata": {},
   "outputs": [
    {
     "name": "stdout",
     "output_type": "stream",
     "text": [
      "World\n",
      "World\n"
     ]
    }
   ],
   "source": [
    "'''\n",
    "Q10. Given the string \"Hello, World!\", extract the substring \"World\".\n",
    "'''\n",
    "#Answer\n",
    "a='Hello World!'\n",
    "b=a[6:11:1]  #this will assign 'World' to b. here first number is start index, second number is last index, third number means number of steps to take at a time\n",
    "print(b)\n",
    "\n",
    "#or we can simply do this (in this case):-\n",
    "c=a[6:11]\n",
    "print(c)"
   ]
  },
  {
   "cell_type": "code",
   "execution_count": null,
   "id": "369252fb",
   "metadata": {},
   "outputs": [],
   "source": [
    "'''Q11. Create a variable named \"is_student\" and assign it a boolean value indicating whether you are\n",
    "currently a student or not.'''\n",
    "\n",
    "#Answer:-\n",
    "\n",
    "is_student=True"
   ]
  }
 ],
 "metadata": {
  "kernelspec": {
   "display_name": "Python 3 (ipykernel)",
   "language": "python",
   "name": "python3"
  },
  "language_info": {
   "codemirror_mode": {
    "name": "ipython",
    "version": 3
   },
   "file_extension": ".py",
   "mimetype": "text/x-python",
   "name": "python",
   "nbconvert_exporter": "python",
   "pygments_lexer": "ipython3",
   "version": "3.10.9"
  }
 },
 "nbformat": 4,
 "nbformat_minor": 5
}
