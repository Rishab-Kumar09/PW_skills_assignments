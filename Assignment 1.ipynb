{
 "cells": [
  {
   "cell_type": "code",
   "execution_count": 2,
   "id": "9c910ab0",
   "metadata": {},
   "outputs": [
    {
     "name": "stdout",
     "output_type": "stream",
     "text": [
      "a is : <class 'str'>\n",
      "b is : <class 'list'>\n",
      "c is : <class 'float'>\n",
      "d is : <class 'tuple'>\n"
     ]
    }
   ],
   "source": [
    "'''Q1. Create one variable containing following type of data:\n",
    "(i) string\n",
    "(ii) list\n",
    "(iii) float\n",
    "(iv) tuple'''\n",
    "\n",
    "# 1. String\n",
    "a=\"Rishab Kumar\"\n",
    "print ('a is :',type(a))\n",
    "\n",
    "# 2. List\n",
    "b=[9, 'Rishi', 18.27]\n",
    "print ('b is :',type(b))\n",
    "\n",
    "# 3. Float\n",
    "c=9.18\n",
    "print ('c is :',type(c))\n",
    "\n",
    "# 4. Tuple\n",
    "d=(18, 9.9, 'R.K.')\n",
    "print ('d is :',type(d))"
   ]
  },
  {
   "cell_type": "code",
   "execution_count": null,
   "id": "073bbe2e",
   "metadata": {},
   "outputs": [],
   "source": [
    "'''Q2. Given are some following variables containing data:\n",
    "(i) var1 = ‘ ‘\n",
    "(ii) var2 = ‘[ DS , ML , Python]’\n",
    "(iii) var3 = [ ‘DS’ , ’ML’ , ‘Python’ ]\n",
    "(iv) var4 = 1.\n",
    "What will be the data type of the above given variable.'''\n",
    "\n",
    "'''\n",
    "Answer:-\n",
    "\n",
    "(i) var1 is string\n",
    "(ii) var2 is string\n",
    "(iii) var3 is list\n",
    "(iv) var4 is integer \n",
    "\n",
    "'''"
   ]
  },
  {
   "cell_type": "code",
   "execution_count": 4,
   "id": "67c467e5",
   "metadata": {},
   "outputs": [
    {
     "name": "stdout",
     "output_type": "stream",
     "text": [
      "1.8\n",
      "4\n",
      "1\n",
      "729\n"
     ]
    }
   ],
   "source": [
    "'''Q3. Explain the use of the following operators using an example:\n",
    "(i) /\n",
    "(ii) %\n",
    "(iii) //\n",
    "(iv) **\n",
    "'''\n",
    "\n",
    "#(i) '/' operator is used to divide 2 numbers\n",
    "\n",
    "a=9\n",
    "b=5\n",
    "c=a/b\n",
    "print(c)\n",
    "\n",
    "#(ii) '%' operator gives remainder of division of 2 numbers\n",
    "\n",
    "d=a%b\n",
    "print(d)\n",
    "\n",
    "#(iii) '//' operator is called floor division operator that removes the decimal part of the remainder of division\n",
    "\n",
    "g=a//b\n",
    "print(g)\n",
    "\n",
    "#(iv) '**' operator is exponential operator. for a**b, it gives the result of 'a' raise to power 'b'\n",
    "h=3\n",
    "i=a**h\n",
    "print(i)"
   ]
  },
  {
   "cell_type": "code",
   "execution_count": 7,
   "id": "c1d8617e",
   "metadata": {},
   "outputs": [
    {
     "name": "stdout",
     "output_type": "stream",
     "text": [
      "Now i is: 1 and its type is <class 'int'>\n",
      "Now i is: 2.2 and its type is <class 'float'>\n",
      "Now i is: Rishi and its type is <class 'str'>\n",
      "Now i is: 3 and its type is <class 'int'>\n",
      "Now i is: Rishab and its type is <class 'str'>\n",
      "Now i is: R.K. and its type is <class 'str'>\n",
      "Now i is: 5 and its type is <class 'int'>\n",
      "Now i is: 6.9 and its type is <class 'float'>\n",
      "Now i is: 9 and its type is <class 'int'>\n"
     ]
    }
   ],
   "source": [
    "'''Q4. Create a list of length 10 of your choice containing multiple types of data. Using for loop print the\n",
    "element and its data type.'''\n",
    "\n",
    "a=[1,2.2,'Rishi', 3, 'Rishab', 'R.K.', 5, 6.9, 9, [5,7,3]]\n",
    "\n",
    "for i in range (0, len(a)-1):\n",
    "    print(f'Now i is: {a[i]} and its type is {type(a[i])}')"
   ]
  },
  {
   "cell_type": "code",
   "execution_count": 6,
   "id": "f6b7e9a3",
   "metadata": {},
   "outputs": [
    {
     "name": "stdout",
     "output_type": "stream",
     "text": [
      "Enter first number (a)12\n",
      "Enter second number(a)3\n",
      "a is completely divisible by b\n",
      "4\n",
      "a is divisible by b 4 times\n"
     ]
    }
   ],
   "source": [
    "'''Q5. Using a while loop, verify if the number A is purely divisible by number B and if so then how many\n",
    "times it can be divisible.'''\n",
    "\n",
    "\n",
    "#check if it is divisible\n",
    "#find how many times it can be divided\n",
    "\n",
    "a=int(input('Enter first number (a)'))\n",
    "b=int(input('Enter second number(a)'))\n",
    "counter=1\n",
    "\n",
    "if a%b==0:\n",
    "    print(f'a is completely divisible by b')\n",
    "    while a>1:\n",
    "        a=a/b\n",
    "        counter=counter+1\n",
    "    print(counter)\n",
    "    print (f'a is divisible by b {counter} times')\n",
    "\n",
    "else:\n",
    "    print('a is not divisible by b')\n",
    "\n",
    "\n",
    "        "
   ]
  },
  {
   "cell_type": "code",
   "execution_count": 7,
   "id": "bbc53a01",
   "metadata": {},
   "outputs": [
    {
     "name": "stdout",
     "output_type": "stream",
     "text": [
      "3 is divisible by 3\n",
      "4 is not divisible by 3\n",
      "5 is not divisible by 3\n",
      "6 is divisible by 3\n",
      "7 is not divisible by 3\n",
      "8 is not divisible by 3\n",
      "9 is divisible by 3\n",
      "10 is not divisible by 3\n",
      "11 is not divisible by 3\n",
      "12 is divisible by 3\n",
      "13 is not divisible by 3\n",
      "14 is not divisible by 3\n",
      "15 is divisible by 3\n",
      "16 is not divisible by 3\n",
      "17 is not divisible by 3\n",
      "18 is divisible by 3\n",
      "19 is not divisible by 3\n",
      "20 is not divisible by 3\n",
      "21 is divisible by 3\n",
      "22 is not divisible by 3\n",
      "23 is not divisible by 3\n",
      "24 is divisible by 3\n",
      "25 is not divisible by 3\n",
      "26 is not divisible by 3\n",
      "27 is divisible by 3\n"
     ]
    }
   ],
   "source": [
    "'''Q6. Create a list containing 25 int type data. Using for loop and if-else condition print if the element is\n",
    "divisible by 3 or not.'''\n",
    "\n",
    "a=[3,4,5,6,7,8,9,10,11,12,13,14,15,16,17,18,19,20,21,22,23,24,25,26,27,28]\n",
    "for i in range (0,len(a)-1):\n",
    "    if a[i]%3==0:\n",
    "        print(f'{a[i]} is divisible by 3')\n",
    "    else:\n",
    "        print(f'{a[i]} is not divisible by 3')"
   ]
  },
  {
   "cell_type": "code",
   "execution_count": 8,
   "id": "cf4d57c8",
   "metadata": {},
   "outputs": [
    {
     "name": "stdout",
     "output_type": "stream",
     "text": [
      "L1 is : [9, 18.27, 'Rishi']\n",
      "Now L1 is : [9, 18.27, 'R.K.']\n",
      "L2 is : (9, 18.27, 'Rishi')\n"
     ]
    },
    {
     "ename": "TypeError",
     "evalue": "'tuple' object does not support item assignment",
     "output_type": "error",
     "traceback": [
      "\u001b[1;31m---------------------------------------------------------------------------\u001b[0m",
      "\u001b[1;31mTypeError\u001b[0m                                 Traceback (most recent call last)",
      "Cell \u001b[1;32mIn[8], line 22\u001b[0m\n\u001b[0;32m     20\u001b[0m l2\u001b[38;5;241m=\u001b[39m(\u001b[38;5;241m9\u001b[39m, \u001b[38;5;241m18.27\u001b[39m, \u001b[38;5;124m'\u001b[39m\u001b[38;5;124mRishi\u001b[39m\u001b[38;5;124m'\u001b[39m)\n\u001b[0;32m     21\u001b[0m \u001b[38;5;28mprint\u001b[39m(\u001b[38;5;124m'\u001b[39m\u001b[38;5;124mL2 is :\u001b[39m\u001b[38;5;124m'\u001b[39m,l2)\n\u001b[1;32m---> 22\u001b[0m l2[\u001b[38;5;241m2\u001b[39m]\u001b[38;5;241m=\u001b[39m\u001b[38;5;124m'\u001b[39m\u001b[38;5;124mR.K.\u001b[39m\u001b[38;5;124m'\u001b[39m\n\u001b[0;32m     23\u001b[0m \u001b[38;5;28mprint\u001b[39m(\u001b[38;5;124m'\u001b[39m\u001b[38;5;124mNow L2 is :\u001b[39m\u001b[38;5;124m'\u001b[39m,l2)\n",
      "\u001b[1;31mTypeError\u001b[0m: 'tuple' object does not support item assignment"
     ]
    }
   ],
   "source": [
    "'''Q7. What do you understand about mutable and immutable data types? Give examples for both showing\n",
    "this property.'''\n",
    "\n",
    "'''\n",
    "Answer:-\n",
    "\n",
    "Mutable objects are the ones which can be changed after they are created.\n",
    "Immutable objects are the ones which can not be changed after they are created.\n",
    "\n",
    "'''\n",
    "#example of mutable object(list)\n",
    "\n",
    "l1=[9, 18.27, 'Rishi']\n",
    "print('L1 is :',l1)\n",
    "l1[2]='R.K.'\n",
    "print('Now L1 is :',l1)\n",
    "\n",
    "#example of immutable object(tuple)\n",
    "\n",
    "l2=(9, 18.27, 'Rishi')\n",
    "print('L2 is :',l2)\n",
    "l2[2]='R.K.'           #This will throw an error since l2 is a tuple which is immutable\n",
    "print('Now L2 is :',l2)"
   ]
  }
 ],
 "metadata": {
  "kernelspec": {
   "display_name": "Python 3 (ipykernel)",
   "language": "python",
   "name": "python3"
  },
  "language_info": {
   "codemirror_mode": {
    "name": "ipython",
    "version": 3
   },
   "file_extension": ".py",
   "mimetype": "text/x-python",
   "name": "python",
   "nbconvert_exporter": "python",
   "pygments_lexer": "ipython3",
   "version": "3.10.9"
  }
 },
 "nbformat": 4,
 "nbformat_minor": 5
}
